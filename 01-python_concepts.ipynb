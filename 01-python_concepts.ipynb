{
 "cells": [
  {
   "cell_type": "markdown",
   "id": "9383bafa",
   "metadata": {},
   "source": [
    "### Python Programming Concepts"
   ]
  },
  {
   "cell_type": "markdown",
   "id": "17df7d6e",
   "metadata": {},
   "source": [
    "#### 1. Create a variable to store the value 500 for sales"
   ]
  },
  {
   "cell_type": "code",
   "execution_count": 1,
   "id": "a5f43c2f",
   "metadata": {},
   "outputs": [
    {
     "name": "stdout",
     "output_type": "stream",
     "text": [
      "500\n"
     ]
    }
   ],
   "source": [
    "sales = 500\n",
    "print(sales)"
   ]
  },
  {
   "cell_type": "markdown",
   "id": "6dc8b9ea",
   "metadata": {},
   "source": [
    "#### 2. Create a variable to store several values:  \n",
    "* sales: 500, 475, 625\n",
    "* integers 1 - 9 "
   ]
  },
  {
   "cell_type": "code",
   "execution_count": 2,
   "id": "902fe3bd",
   "metadata": {},
   "outputs": [
    {
     "name": "stdout",
     "output_type": "stream",
     "text": [
      "[500, 475, 625]\n",
      "[1, 2, 3, 4, 5, 6, 7, 8, 9]\n"
     ]
    }
   ],
   "source": [
    "sales_various = [500,475,625]\n",
    "int_various = list(range(1,10))\n",
    "print(sales_various)\n",
    "print(int_various)"
   ]
  },
  {
   "cell_type": "markdown",
   "id": "62e55953",
   "metadata": {},
   "source": [
    "#### 3. Create a variable to store the names and email addresses for a number of customers\n",
    "* John, john@some.com; Ann, ann@some.com"
   ]
  },
  {
   "cell_type": "code",
   "execution_count": 3,
   "id": "03f2b161",
   "metadata": {},
   "outputs": [
    {
     "name": "stdout",
     "output_type": "stream",
     "text": [
      "[{'name': 'John', 'email': 'john@some.com'}, {'name': 'Ann', 'email': 'ann@some.com'}]\n"
     ]
    }
   ],
   "source": [
    "customers = [{\"name\": \"John\", \"email\": \"john@some.com\"},{\"name\": \"Ann\", \"email\": \"ann@some.com\"}]\n",
    "print(customers)"
   ]
  },
  {
   "cell_type": "markdown",
   "id": "d6b1e8c6",
   "metadata": {},
   "source": [
    "#### 4. Use Python to generate a random value based on each of following:\n",
    "1. between 0 and 1\n",
    "2. the standard normal distribution (rounded to two decimal places)\n",
    "3. a value between 1 and 10\n",
    "4. either H or T"
   ]
  },
  {
   "cell_type": "code",
   "execution_count": 4,
   "id": "f004d7b5",
   "metadata": {},
   "outputs": [],
   "source": [
    "import random"
   ]
  },
  {
   "cell_type": "code",
   "execution_count": 5,
   "id": "a8efc6fc",
   "metadata": {},
   "outputs": [
    {
     "name": "stdout",
     "output_type": "stream",
     "text": [
      "0.3790485508264244\n"
     ]
    }
   ],
   "source": [
    "#1\n",
    "random_1 = random.random()\n",
    "print(random_1)"
   ]
  },
  {
   "cell_type": "code",
   "execution_count": 6,
   "id": "1a29e601",
   "metadata": {},
   "outputs": [
    {
     "name": "stdout",
     "output_type": "stream",
     "text": [
      "0.33\n"
     ]
    }
   ],
   "source": [
    "#2\n",
    "random_gauss_2 = random.gauss(0,1)\n",
    "random_2 = round(random_gauss_2, 2)\n",
    "print(random_2)"
   ]
  },
  {
   "cell_type": "code",
   "execution_count": 7,
   "id": "3a150c3e",
   "metadata": {},
   "outputs": [
    {
     "name": "stdout",
     "output_type": "stream",
     "text": [
      "2\n"
     ]
    }
   ],
   "source": [
    "#3\n",
    "random_3 = random.randint(1,10)\n",
    "print(random_3)"
   ]
  },
  {
   "cell_type": "code",
   "execution_count": 8,
   "id": "f80f4b3b",
   "metadata": {},
   "outputs": [
    {
     "name": "stdout",
     "output_type": "stream",
     "text": [
      "T\n"
     ]
    }
   ],
   "source": [
    "#4\n",
    "random_4 = random.choice([\"H\",\"T\"])\n",
    "print(random_4)"
   ]
  },
  {
   "cell_type": "code",
   "execution_count": 9,
   "id": "bdb52b86",
   "metadata": {},
   "outputs": [
    {
     "name": "stdout",
     "output_type": "stream",
     "text": [
      "HTHTTHHHHH\n"
     ]
    },
    {
     "data": {
      "text/plain": [
       "['H', 'H', '', 'HHHHH']"
      ]
     },
     "execution_count": 9,
     "metadata": {},
     "output_type": "execute_result"
    }
   ],
   "source": [
    "# BONUS = 10 FLIPS\n",
    "flips = \"\"\n",
    "for flip in range(10):\n",
    "    flips += random.choice([\"H\",\"T\"])\n",
    "print(flips)\n",
    "flips.split(\"T\")"
   ]
  },
  {
   "cell_type": "markdown",
   "id": "7eddf06a",
   "metadata": {},
   "source": [
    "#### 5. Use Python to determine your current working directory"
   ]
  },
  {
   "cell_type": "code",
   "execution_count": 10,
   "id": "d8f79474",
   "metadata": {},
   "outputs": [
    {
     "name": "stdout",
     "output_type": "stream",
     "text": [
      "/Users/jorge/Documents/BABSON/03 SPRING/ADVANCED PROGRAMMING OIM7502/Classwork\n"
     ]
    }
   ],
   "source": [
    "import os\n",
    "path = os.getcwd()\n",
    "print(path)\n",
    "\n",
    "#See all files in the directory\n",
    "#os.listdir()\n",
    "#os.chdir(\"..\")\n",
    "#os.mkdir()"
   ]
  },
  {
   "cell_type": "markdown",
   "id": "fc43ec50",
   "metadata": {},
   "source": [
    "#### 6. Use Python to determine how many days until New Year's Day"
   ]
  },
  {
   "cell_type": "code",
   "execution_count": 11,
   "id": "13f630fe",
   "metadata": {},
   "outputs": [
    {
     "data": {
      "text/plain": [
       "datetime.timedelta(days=344)"
      ]
     },
     "execution_count": 11,
     "metadata": {},
     "output_type": "execute_result"
    }
   ],
   "source": [
    "import datetime as dt\n",
    "today = dt.date.today()\n",
    "\n",
    "days_to_ny = dt.date(2025, 1, 1)\n",
    "\n",
    "days_to_ny - today\n",
    "\n",
    "#dt.datetime.now()"
   ]
  },
  {
   "cell_type": "markdown",
   "id": "2ba4ea92",
   "metadata": {},
   "source": [
    "#### 7. Write a short program that displays the future value of 1,000 earning 5%  at the end of each year for the next 5 years"
   ]
  },
  {
   "cell_type": "code",
   "execution_count": 12,
   "id": "6fef4a8c",
   "metadata": {},
   "outputs": [
    {
     "name": "stdout",
     "output_type": "stream",
     "text": [
      "Vear                Value\n",
      "-------------------------\n",
      "1              1,050.00\n",
      "2              1,002.50\n",
      "3              1,000.12\n",
      "4              1,000.01\n",
      "5              1,000.00\n"
     ]
    }
   ],
   "source": [
    "pv = 1000\n",
    "rate = .05\n",
    "years = 5\n",
    "print(f\"{'Vear': <15}{'Value':>10}\")\n",
    "print(\"-\" * 25)\n",
    "for year in range(1, years + 1):\n",
    "    print(f\"{year:<15d}{pv * (1+ rate ** year):>,.2f}\")"
   ]
  },
  {
   "cell_type": "markdown",
   "id": "150201c8",
   "metadata": {},
   "source": [
    "#### 8. Write a short program that prompts a user to enter a stock symbol and press enter. Add each symbol entered to a variable. The program should run until the user presses the enter key without entering anything (empty string) "
   ]
  },
  {
   "cell_type": "code",
   "execution_count": 13,
   "id": "931a346f",
   "metadata": {},
   "outputs": [
    {
     "name": "stdout",
     "output_type": "stream",
     "text": [
      "Enter stock symbol or press enter to quit:\n",
      "[]\n"
     ]
    }
   ],
   "source": [
    "stocks = []\n",
    "while True:\n",
    "    symbol = input(\"Enter stock symbol or press enter to quit:\")\n",
    "    if symbol == \"\":\n",
    "        break\n",
    "    stocks.append(symbol)\n",
    "print(stocks)"
   ]
  },
  {
   "cell_type": "markdown",
   "id": "fc2a7592",
   "metadata": {},
   "source": [
    "#### 9. Write the code necessary to calculate the sum of the square differences of a group of values : \n",
    "58, 32, 37, 41, 36, 36, 54, 37, 25, 53\n",
    "##### $\\Sigma $(${x}$ - $\\bar{x}$)$^2$"
   ]
  },
  {
   "cell_type": "code",
   "execution_count": 14,
   "id": "7ba3d3af",
   "metadata": {},
   "outputs": [
    {
     "name": "stdout",
     "output_type": "stream",
     "text": [
      "1020.9\n"
     ]
    }
   ],
   "source": [
    "values_list = [58, 32, 37, 41, 36, 36, 54, 37, 25, 53]\n",
    "mean_values = sum(values_list) / len(values_list)\n",
    "sum_square_diff = sum((x - mean_values) ** 2 for x in values_list)\n",
    "sum_square_diff_round = round(sum_square_diff,2)\n",
    "print(sum_square_diff_round)"
   ]
  },
  {
   "cell_type": "markdown",
   "id": "89a7db2f",
   "metadata": {},
   "source": []
  },
  {
   "cell_type": "code",
   "execution_count": 15,
   "id": "be36f887",
   "metadata": {},
   "outputs": [],
   "source": [
    "#I don't really understand this last asignment"
   ]
  },
  {
   "cell_type": "markdown",
   "id": "6d6f2e64",
   "metadata": {},
   "source": [
    "#### 10. Opening, reading and writing files. Look in the data folder from the class repo, there is a file there called desolation_row.txt. For Q10 open that file and read its contents into a string variable"
   ]
  },
  {
   "cell_type": "code",
   "execution_count": 18,
   "id": "f7fa569d",
   "metadata": {},
   "outputs": [
    {
     "name": "stdout",
     "output_type": "stream",
     "text": [
      "They're selling postcards of the hanging, they're painting the passports brown\n",
      "The beauty parlor is filled with sailors, the circus is in town\n",
      "Here comes the blind commissioner, they've got him in a trance\n",
      "One hand is tied to the tight-rope walker, the other is in his pants\n",
      "And the riot squad they're restless, they need somewhere to go\n",
      "As Lady and I look out tonight, from Desolation Row\n",
      "Cinderella, she seems so easy, \"It takes one to know one, \" she smiles\n",
      "And puts her hands in her back pockets Bette Davis style\n",
      "And in comes Romeo, he's moaning. \"You Belong to Me I Believe\"\n",
      "And someone says, \"You're in the wrong place, my friend, you'd better leave\"\n",
      "And the only sound that's left after the ambulances go\n",
      "Is Cinderella sweeping up on Desolation Row\n",
      "Now the moon is almost hidden, the stars are beginning to hide\n",
      "The fortune telling lady has even taken all her things inside\n",
      "All except for Cain and Abel and the hunchback of Notre Dame\n",
      "Everybody is making love or else expecting rain\n",
      "And the Good Samaritan, he's dressing, he's getting ready for the show\n",
      "He's going to the carnival tonight on Desolation Row\n",
      "Ophelia, she's 'neath the window for her I feel so afraid\n",
      "On her twenty-second birthday she already is an old maid\n",
      "To her, death is quite romantic she wears an iron vest\n",
      "Her profession's her religion, her sin is her lifelessness\n",
      "And though her eyes are fixed upon Noah's great rainbow\n",
      "She spends her time peeking into Desolation Row\n",
      "Einstein, disguised as Robin Hood with his memories in a trunk\n",
      "Passed this way an hour ago with his friend, a jealous monk\n",
      "Now he looked so immaculately frightful as he bummed a cigarette\n",
      "And he when off sniffing drainpipes and reciting the alphabet\n",
      "You would not think to look at him, but he was famous long ago\n",
      "For playing the electric violin on Desolation Row\n",
      "Dr. Filth, he keeps his world inside of a leather cup\n",
      "But all his sexless patients, they're trying to blow it up\n",
      "Now his nurse, some local loser, she's in charge of the cyanide hole\n",
      "And she also keeps the cards that read, \"Have Mercy on His Soul\"\n",
      "They all play on the penny whistles, you can hear them blow\n",
      "If you lean your head out far enough from Desolation Row\n",
      "Across the street they've nailed the curtains, they're getting ready for the feast\n",
      "The Phantom of the Opera in a perfect image of a priest\n",
      "They are spoon feeding Casanova to get him to feel more assured\n",
      "Then they'll kill him with self-confidence after poisoning him with words\n",
      "And the Phantom's shouting to skinny girls, \"Get outta here if you don't know\"\n",
      "Casanova is just being punished for going to Desolation Row\"\n",
      "At midnight all the agents and the superhuman crew\n",
      "Come out and round up everyone that knows more than they do\n",
      "Then they bring them to the factory where the heart-attack machine\n",
      "Is strapped across their shoulders and then the kerosene\n",
      "Is brought down from the castles by insurance men who go\n",
      "Check to see that nobody is escaping to Desolation Row\n",
      "Praise be to Nero's Neptune, the Titanic sails at dawn\n",
      "Everybody's shouting, \"Which side are you on?!\"\n",
      "And Ezra Pound and T.S. Eliot fighting in the captain's tower\n",
      "While calypso singers laugh at them and fishermen hold flowers\n",
      "Between the windows of the sea where lovely mermaids flow\n",
      "And nobody has to think too much about Desolation Row\n",
      "Yes, I received your letter yesterday, about the time the doorknob broke\n",
      "When you asked me how I was doing, was that some kind of joke\n",
      "All these people that you mention, yes, I know them, they're quite lame\n",
      "I had to rearrange their faces and give them all another name\n",
      "Right now, I can't read too good, don't send me no more letters no\n",
      "Not unless you mail them from Desolation Row\n"
     ]
    }
   ],
   "source": [
    "file_path = '/Users/jorge/Documents/BABSON/03 SPRING/ADVANCED PROGRAMMING OIM7502/Classwork/data/desolation_row.txt'\n",
    "with open(file_path, 'r') as file:\n",
    "    file_contents = str(file.read())\n",
    "print(file_contents)"
   ]
  },
  {
   "cell_type": "markdown",
   "id": "eec548d6",
   "metadata": {},
   "source": [
    "#### 11. Create a function the will simulate rolling two die and return the value of each and and the sum "
   ]
  },
  {
   "cell_type": "code",
   "execution_count": 26,
   "id": "bb115cdc",
   "metadata": {},
   "outputs": [],
   "source": [
    "#11\n",
    "def roll():\n",
    "    random_die_1 = random.randint(1, 6)\n",
    "    random_die_2 = random.randint(1, 6)\n",
    "    total = random_die_1 + random_die_2\n",
    "    return random_die_1, random_die_2, total"
   ]
  },
  {
   "cell_type": "code",
   "execution_count": 30,
   "id": "ea38f3f1",
   "metadata": {},
   "outputs": [
    {
     "data": {
      "text/plain": [
       "(4, 5, 9)"
      ]
     },
     "execution_count": 30,
     "metadata": {},
     "output_type": "execute_result"
    }
   ],
   "source": [
    "#Calling the new function\n",
    "roll()"
   ]
  },
  {
   "cell_type": "markdown",
   "id": "21556d7f",
   "metadata": {},
   "source": [
    "#### 12. Write the code needed to evaluate whether a value in a group of values is negative or postive and prints an approriate message, i.e. postive, negative \n",
    "-1.59, 2.36, 1.69, 1.13, -0.91, 1.48, -0.34, 1.31, -0.74, 0.2"
   ]
  },
  {
   "cell_type": "code",
   "execution_count": 35,
   "id": "d6c38ecb",
   "metadata": {},
   "outputs": [],
   "source": [
    "list_values = [-1.59, 2.36, 1.69, 1.13, -0.91, 1.48, -0.34, 1.31, -0.74, 0.2]\n"
   ]
  },
  {
   "cell_type": "code",
   "execution_count": 37,
   "id": "5ba8ea31",
   "metadata": {},
   "outputs": [],
   "source": [
    "def evaluate_values(list_values):\n",
    "    for value in list_values:\n",
    "        if value < 0:\n",
    "            print(value, \"is negative\")\n",
    "        elif value > 0:\n",
    "            print(value, \"is positive\")\n",
    "        else:\n",
    "            print(value,\"is zero\")"
   ]
  },
  {
   "cell_type": "code",
   "execution_count": 38,
   "id": "aaefba17",
   "metadata": {},
   "outputs": [
    {
     "name": "stdout",
     "output_type": "stream",
     "text": [
      "-1.59 is negative\n",
      "2.36 is positive\n",
      "1.69 is positive\n",
      "1.13 is positive\n",
      "-0.91 is negative\n",
      "1.48 is positive\n",
      "-0.34 is negative\n",
      "1.31 is positive\n",
      "-0.74 is negative\n",
      "0.2 is positive\n"
     ]
    }
   ],
   "source": [
    "#Calling the new function\n",
    "evaluate_values(list_values)"
   ]
  },
  {
   "cell_type": "markdown",
   "id": "8cafe65c",
   "metadata": {},
   "source": [
    "#### 14.  Complete the following:\n",
    "1. Write a program that generates 500 random integers from 1 to n, for example, the first integer will be 1 the second will be 1 or 2, the fifth between 1 and 5, and so on.\n",
    "2. The program should write each integer to a file \n",
    "3. Once all integers are written close the file\n",
    "\n",
    "##### Part 2\n",
    "1. Open and read the file into a list\n",
    "2. Create a line plot of the data"
   ]
  },
  {
   "cell_type": "code",
   "execution_count": 59,
   "id": "60a910bb",
   "metadata": {},
   "outputs": [],
   "source": [
    "#1\n",
    "def generate_random_integers(n):\n",
    "    random_integers = []\n",
    "    for i in range(1, n + 1):\n",
    "        random_int = random.randint(1, i)\n",
    "        random_integers.append(random_int)\n",
    "    return random_integers"
   ]
  },
  {
   "cell_type": "code",
   "execution_count": 70,
   "id": "6745da79",
   "metadata": {},
   "outputs": [
    {
     "data": {
      "text/plain": [
       "[1,\n",
       " 2,\n",
       " 1,\n",
       " 1,\n",
       " 3,\n",
       " 1,\n",
       " 3,\n",
       " 1,\n",
       " 3,\n",
       " 3,\n",
       " 5,\n",
       " 4,\n",
       " 11,\n",
       " 11,\n",
       " 9,\n",
       " 16,\n",
       " 11,\n",
       " 6,\n",
       " 12,\n",
       " 13,\n",
       " 3,\n",
       " 10,\n",
       " 21,\n",
       " 12,\n",
       " 18,\n",
       " 6,\n",
       " 11,\n",
       " 26,\n",
       " 3,\n",
       " 12,\n",
       " 29,\n",
       " 10,\n",
       " 11,\n",
       " 18,\n",
       " 34,\n",
       " 35,\n",
       " 36,\n",
       " 2,\n",
       " 36,\n",
       " 32,\n",
       " 20,\n",
       " 16,\n",
       " 19,\n",
       " 27,\n",
       " 24,\n",
       " 40,\n",
       " 6,\n",
       " 18,\n",
       " 23,\n",
       " 16,\n",
       " 46,\n",
       " 22,\n",
       " 6,\n",
       " 7,\n",
       " 51,\n",
       " 13,\n",
       " 11,\n",
       " 30,\n",
       " 51,\n",
       " 60,\n",
       " 21,\n",
       " 19,\n",
       " 28,\n",
       " 6,\n",
       " 26,\n",
       " 8,\n",
       " 30,\n",
       " 10,\n",
       " 60,\n",
       " 58,\n",
       " 55,\n",
       " 43,\n",
       " 56,\n",
       " 37,\n",
       " 62,\n",
       " 25,\n",
       " 57,\n",
       " 1,\n",
       " 23,\n",
       " 39,\n",
       " 8,\n",
       " 82,\n",
       " 44,\n",
       " 27,\n",
       " 1,\n",
       " 58,\n",
       " 63,\n",
       " 73,\n",
       " 57,\n",
       " 49,\n",
       " 59,\n",
       " 41,\n",
       " 26,\n",
       " 16,\n",
       " 47,\n",
       " 10,\n",
       " 74,\n",
       " 45,\n",
       " 90,\n",
       " 22,\n",
       " 66,\n",
       " 51,\n",
       " 34,\n",
       " 18,\n",
       " 56,\n",
       " 64,\n",
       " 29,\n",
       " 20,\n",
       " 74,\n",
       " 63,\n",
       " 64,\n",
       " 21,\n",
       " 15,\n",
       " 99,\n",
       " 84,\n",
       " 63,\n",
       " 55,\n",
       " 112,\n",
       " 111,\n",
       " 81,\n",
       " 82,\n",
       " 73,\n",
       " 63,\n",
       " 68,\n",
       " 109,\n",
       " 70,\n",
       " 29,\n",
       " 108,\n",
       " 55,\n",
       " 78,\n",
       " 46,\n",
       " 56,\n",
       " 6,\n",
       " 103,\n",
       " 21,\n",
       " 109,\n",
       " 115,\n",
       " 22,\n",
       " 44,\n",
       " 37,\n",
       " 110,\n",
       " 124,\n",
       " 57,\n",
       " 45,\n",
       " 60,\n",
       " 38,\n",
       " 125,\n",
       " 54,\n",
       " 76,\n",
       " 104,\n",
       " 99,\n",
       " 75,\n",
       " 18,\n",
       " 29,\n",
       " 136,\n",
       " 64,\n",
       " 156,\n",
       " 84,\n",
       " 100,\n",
       " 99,\n",
       " 96,\n",
       " 64,\n",
       " 105,\n",
       " 3,\n",
       " 55,\n",
       " 17,\n",
       " 99,\n",
       " 119,\n",
       " 113,\n",
       " 90,\n",
       " 19,\n",
       " 7,\n",
       " 111,\n",
       " 2,\n",
       " 21,\n",
       " 140,\n",
       " 169,\n",
       " 138,\n",
       " 108,\n",
       " 48,\n",
       " 104,\n",
       " 117,\n",
       " 43,\n",
       " 138,\n",
       " 153,\n",
       " 114,\n",
       " 139,\n",
       " 47,\n",
       " 132,\n",
       " 49,\n",
       " 59,\n",
       " 104,\n",
       " 135,\n",
       " 27,\n",
       " 50,\n",
       " 177,\n",
       " 106,\n",
       " 1,\n",
       " 148,\n",
       " 112,\n",
       " 193,\n",
       " 109,\n",
       " 116,\n",
       " 67,\n",
       " 26,\n",
       " 107,\n",
       " 77,\n",
       " 130,\n",
       " 137,\n",
       " 1,\n",
       " 166,\n",
       " 42,\n",
       " 86,\n",
       " 33,\n",
       " 29,\n",
       " 214,\n",
       " 155,\n",
       " 61,\n",
       " 91,\n",
       " 132,\n",
       " 165,\n",
       " 102,\n",
       " 124,\n",
       " 199,\n",
       " 61,\n",
       " 33,\n",
       " 10,\n",
       " 62,\n",
       " 119,\n",
       " 191,\n",
       " 48,\n",
       " 93,\n",
       " 147,\n",
       " 206,\n",
       " 210,\n",
       " 227,\n",
       " 73,\n",
       " 158,\n",
       " 48,\n",
       " 44,\n",
       " 174,\n",
       " 172,\n",
       " 83,\n",
       " 21,\n",
       " 21,\n",
       " 86,\n",
       " 234,\n",
       " 229,\n",
       " 228,\n",
       " 134,\n",
       " 101,\n",
       " 11,\n",
       " 86,\n",
       " 73,\n",
       " 128,\n",
       " 85,\n",
       " 136,\n",
       " 9,\n",
       " 256,\n",
       " 199,\n",
       " 36,\n",
       " 43,\n",
       " 157,\n",
       " 31,\n",
       " 184,\n",
       " 248,\n",
       " 6,\n",
       " 44,\n",
       " 195,\n",
       " 10,\n",
       " 74,\n",
       " 199,\n",
       " 234,\n",
       " 161,\n",
       " 144,\n",
       " 217,\n",
       " 270,\n",
       " 41,\n",
       " 28,\n",
       " 208,\n",
       " 236,\n",
       " 58,\n",
       " 139,\n",
       " 237,\n",
       " 226,\n",
       " 61,\n",
       " 279,\n",
       " 196,\n",
       " 254,\n",
       " 129,\n",
       " 7,\n",
       " 85,\n",
       " 255,\n",
       " 139,\n",
       " 108,\n",
       " 119,\n",
       " 255,\n",
       " 38,\n",
       " 255,\n",
       " 240,\n",
       " 76,\n",
       " 159,\n",
       " 284,\n",
       " 118,\n",
       " 290,\n",
       " 253,\n",
       " 14,\n",
       " 271,\n",
       " 273,\n",
       " 269,\n",
       " 228,\n",
       " 7,\n",
       " 16,\n",
       " 41,\n",
       " 192,\n",
       " 295,\n",
       " 195,\n",
       " 59,\n",
       " 151,\n",
       " 120,\n",
       " 309,\n",
       " 100,\n",
       " 295,\n",
       " 84,\n",
       " 107,\n",
       " 9,\n",
       " 29,\n",
       " 104,\n",
       " 70,\n",
       " 144,\n",
       " 168,\n",
       " 309,\n",
       " 313,\n",
       " 175,\n",
       " 304,\n",
       " 101,\n",
       " 11,\n",
       " 317,\n",
       " 63,\n",
       " 290,\n",
       " 298,\n",
       " 142,\n",
       " 88,\n",
       " 200,\n",
       " 289,\n",
       " 312,\n",
       " 175,\n",
       " 233,\n",
       " 69,\n",
       " 174,\n",
       " 29,\n",
       " 331,\n",
       " 200,\n",
       " 299,\n",
       " 149,\n",
       " 48,\n",
       " 199,\n",
       " 45,\n",
       " 103,\n",
       " 240,\n",
       " 7,\n",
       " 116,\n",
       " 38,\n",
       " 123,\n",
       " 72,\n",
       " 330,\n",
       " 336,\n",
       " 242,\n",
       " 173,\n",
       " 251,\n",
       " 54,\n",
       " 222,\n",
       " 184,\n",
       " 110,\n",
       " 237,\n",
       " 262,\n",
       " 29,\n",
       " 2,\n",
       " 132,\n",
       " 229,\n",
       " 200,\n",
       " 34,\n",
       " 312,\n",
       " 118,\n",
       " 293,\n",
       " 224,\n",
       " 9,\n",
       " 295,\n",
       " 326,\n",
       " 146,\n",
       " 258,\n",
       " 145,\n",
       " 51,\n",
       " 221,\n",
       " 245,\n",
       " 47,\n",
       " 372,\n",
       " 73,\n",
       " 170,\n",
       " 206,\n",
       " 365,\n",
       " 383,\n",
       " 27,\n",
       " 313,\n",
       " 349,\n",
       " 72,\n",
       " 151,\n",
       " 27,\n",
       " 295,\n",
       " 339,\n",
       " 244,\n",
       " 363,\n",
       " 12,\n",
       " 314,\n",
       " 159,\n",
       " 96,\n",
       " 164,\n",
       " 26,\n",
       " 220,\n",
       " 417,\n",
       " 24,\n",
       " 52,\n",
       " 140,\n",
       " 354,\n",
       " 169,\n",
       " 199,\n",
       " 113,\n",
       " 136,\n",
       " 334,\n",
       " 429,\n",
       " 256,\n",
       " 11,\n",
       " 340,\n",
       " 43,\n",
       " 23,\n",
       " 412,\n",
       " 197,\n",
       " 109,\n",
       " 427,\n",
       " 269,\n",
       " 235,\n",
       " 45,\n",
       " 154,\n",
       " 324,\n",
       " 36,\n",
       " 54,\n",
       " 184,\n",
       " 282,\n",
       " 91,\n",
       " 272,\n",
       " 23,\n",
       " 21,\n",
       " 403,\n",
       " 5,\n",
       " 401,\n",
       " 451,\n",
       " 228,\n",
       " 78,\n",
       " 290,\n",
       " 435,\n",
       " 231,\n",
       " 325,\n",
       " 268,\n",
       " 322,\n",
       " 235,\n",
       " 379,\n",
       " 243,\n",
       " 176,\n",
       " 59,\n",
       " 462,\n",
       " 254,\n",
       " 69,\n",
       " 236,\n",
       " 357,\n",
       " 105,\n",
       " 26,\n",
       " 295,\n",
       " 396,\n",
       " 164,\n",
       " 296,\n",
       " 462,\n",
       " 422,\n",
       " 287,\n",
       " 257,\n",
       " 458,\n",
       " 364,\n",
       " 373,\n",
       " 98,\n",
       " 9,\n",
       " 222,\n",
       " 67,\n",
       " 61,\n",
       " 434,\n",
       " 200,\n",
       " 26,\n",
       " 274,\n",
       " 136,\n",
       " 296,\n",
       " 252,\n",
       " 293]"
      ]
     },
     "execution_count": 70,
     "metadata": {},
     "output_type": "execute_result"
    }
   ],
   "source": [
    "generate_random_integers(500)"
   ]
  },
  {
   "cell_type": "code",
   "execution_count": null,
   "id": "21140445",
   "metadata": {},
   "outputs": [],
   "source": [
    "#2 #3\n",
    "# I AM UNABLE TO COMPLETE POINT 2 AND 3"
   ]
  },
  {
   "cell_type": "code",
   "execution_count": null,
   "id": "3d546600",
   "metadata": {},
   "outputs": [],
   "source": [
    "# I AM UNABLE TO COMPLETE PART2"
   ]
  }
 ],
 "metadata": {
  "kernelspec": {
   "display_name": "Python 3 (ipykernel)",
   "language": "python",
   "name": "python3"
  },
  "language_info": {
   "codemirror_mode": {
    "name": "ipython",
    "version": 3
   },
   "file_extension": ".py",
   "mimetype": "text/x-python",
   "name": "python",
   "nbconvert_exporter": "python",
   "pygments_lexer": "ipython3",
   "version": "3.11.4"
  }
 },
 "nbformat": 4,
 "nbformat_minor": 5
}
